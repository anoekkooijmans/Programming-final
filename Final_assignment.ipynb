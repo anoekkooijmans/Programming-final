{
 "cells": [
  {
   "attachments": {},
   "cell_type": "markdown",
   "id": "7215bc28",
   "metadata": {},
   "source": [
    "# The relationship between the Human Development Index and the prevalance of mental health disorders"
   ]
  },
  {
   "cell_type": "markdown",
   "id": "68488a06",
   "metadata": {},
   "source": [
    "## Research question"
   ]
  },
  {
   "cell_type": "markdown",
   "id": "a91f5fe3",
   "metadata": {},
   "source": [
    "The aim of this analysis is to investigate the relationship between country-level socioeconomic status and the prevalence of mental health disorders. Studies have suggested that mental health is worse is relatively highly developed countries [(Barbalat & Franck, 2020)](https://bmjopen.bmj.com/content/bmjopen/10/4/e035055.full.pdf). A country's level of human development can be measured using the humand development index (HDI).\n",
    "\n",
    "The HDI is a metric designed to quantify a country's socieeconomic status by using key dimensions of human development. The index is calculated using four key metrics: (1) life expectancy at birth - to asses a long and healthy life, (2) expected years of schooling - to asses access to knowledge of the younger generation, (3) average years of schooling - to assess access to knowledge of the older generation and (4) gross national income (GNI) per capita - to asses the standard of living. Each of these metrics is normalized to an index value and aggregated into the HDI using the following formula [(2020 HDR Technical Notes)](https://hdr.undp.org/system/files/documents/technical-notes-calculating-human-development-indices.pdf):\n",
    "\n",
    "$HDI = (I_{Health} * I_{Education} * I_{Income})^\\frac{1}{3}$\n",
    "\n",
    "The HDI dataset contains HDI values from 1990 to 2021 The 'Global Trends in Mental Health Disorder' file contains the prevalence expressed in percentages for schizophrenia, bipolar disorder, eating disorders, anxiety disorders, drug use disorders, depression and alcohol use disorders from 1990 to 2017. "
   ]
  },
  {
   "cell_type": "markdown",
   "id": "407cf680",
   "metadata": {},
   "source": [
    "### Data sources"
   ]
  },
  {
   "cell_type": "markdown",
   "id": "ab8ce9ce",
   "metadata": {},
   "source": [
    "The [Human Development Index](https://ourworldindata.org/human-development-index) was retrieved from Our World in Data (Roser, 2014) and originally published by the United Nations Development Programme. \n",
    "\n",
    "The [Mental Health dataset](https://www.kaggle.com/datasets/thedevastator/uncover-global-trends-in-mental-health-disorder?resource=download) was retrieved from kaggle by the author Amit. \n",
    "\n"
   ]
  },
  {
   "cell_type": "markdown",
   "id": "cc574309",
   "metadata": {},
   "source": [
    "### Loading libraries"
   ]
  },
  {
   "cell_type": "code",
   "execution_count": 1,
   "id": "7de4d654",
   "metadata": {},
   "outputs": [],
   "source": [
    "# Loading needed libraries\n",
    "import numpy as np\n",
    "import pandas as pd\n",
    "import yaml"
   ]
  },
  {
   "cell_type": "markdown",
   "id": "6f76a62f",
   "metadata": {},
   "source": [
    "### Defining functions"
   ]
  },
  {
   "cell_type": "code",
   "execution_count": 5,
   "id": "c1f67bcb",
   "metadata": {},
   "outputs": [],
   "source": [
    "def data_inspection(df):\n",
    "    \n",
    "    print(df.head(), '\\n')\n",
    "    print(f'Dataset contains {df.shape[0]} rows and {df.shape[1]} columns. \\n')\n",
    "    print(f'Datatypes: \\n {df.dtypes}, \\n')\n",
    "    print(f'Missing data per column: \\n{df.isnull().sum()}')"
   ]
  },
  {
   "cell_type": "markdown",
   "id": "f97053c6",
   "metadata": {},
   "source": [
    "### Data loading"
   ]
  },
  {
   "cell_type": "code",
   "execution_count": 2,
   "id": "00b5bc2d",
   "metadata": {},
   "outputs": [
    {
     "name": "stderr",
     "output_type": "stream",
     "text": [
      "/tmp/ipykernel_5355/2108782651.py:15: DtypeWarning: Columns (5,6) have mixed types. Specify dtype option on import or set low_memory=False.\n",
      "  mental_disorders = pd.read_csv(d2)\n"
     ]
    }
   ],
   "source": [
    "# Getting data location from configuration file\n",
    "def get_config():\n",
    "    with open(\"config.yaml\", 'r') as stream:\n",
    "        config = yaml.safe_load(stream)\n",
    "    return config\n",
    "\n",
    "config = get_config()\n",
    "\n",
    "# Loading datasets as pd dataframes\n",
    "# Human development index data\n",
    "d1 = (config['dataset1'])\n",
    "hdi = pd.read_csv(d1)\n",
    "# mental health disorder data\n",
    "d2 = (config['dataset2'])\n",
    "mental_disorders = pd.read_csv(d2)"
   ]
  },
  {
   "cell_type": "markdown",
   "id": "3c845e0f",
   "metadata": {},
   "source": [
    "### Data inspection and exploration"
   ]
  },
  {
   "cell_type": "markdown",
   "id": "8454c4e0",
   "metadata": {},
   "source": [
    "##### Mental health dataset"
   ]
  },
  {
   "cell_type": "code",
   "execution_count": 8,
   "id": "48d230ce",
   "metadata": {},
   "outputs": [
    {
     "name": "stdout",
     "output_type": "stream",
     "text": [
      "   index       Entity Code  Year Schizophrenia (%) Bipolar disorder (%)  \\\n",
      "0      0  Afghanistan  AFG  1990           0.16056             0.697779   \n",
      "1      1  Afghanistan  AFG  1991          0.160312             0.697961   \n",
      "2      2  Afghanistan  AFG  1992          0.160135             0.698107   \n",
      "3      3  Afghanistan  AFG  1993          0.160037             0.698257   \n",
      "4      4  Afghanistan  AFG  1994          0.160022             0.698469   \n",
      "\n",
      "  Eating disorders (%)  Anxiety disorders (%)  Drug use disorders (%)  \\\n",
      "0             0.101855               4.828830                1.677082   \n",
      "1             0.099313               4.829740                1.684746   \n",
      "2             0.096692               4.831108                1.694334   \n",
      "3             0.094336               4.830864                1.705320   \n",
      "4             0.092439               4.829423                1.716069   \n",
      "\n",
      "   Depression (%)  Alcohol use disorders (%)  \n",
      "0        4.071831                   0.672404  \n",
      "1        4.079531                   0.671768  \n",
      "2        4.088358                   0.670644  \n",
      "3        4.096190                   0.669738  \n",
      "4        4.099582                   0.669260   \n",
      "\n",
      "Dataset contains 108553 rows and 11 columns. \n",
      "\n",
      "Datatypes: \n",
      " index                          int64\n",
      "Entity                        object\n",
      "Code                          object\n",
      "Year                          object\n",
      "Schizophrenia (%)             object\n",
      "Bipolar disorder (%)          object\n",
      "Eating disorders (%)          object\n",
      "Anxiety disorders (%)        float64\n",
      "Drug use disorders (%)       float64\n",
      "Depression (%)               float64\n",
      "Alcohol use disorders (%)    float64\n",
      "dtype: object, \n",
      "\n",
      "Missing data per column: \n",
      "index                             0\n",
      "Entity                            0\n",
      "Code                           5412\n",
      "Year                              0\n",
      "Schizophrenia (%)             82678\n",
      "Bipolar disorder (%)          89147\n",
      "Eating disorders (%)           8317\n",
      "Anxiety disorders (%)        102085\n",
      "Drug use disorders (%)       102085\n",
      "Depression (%)               102085\n",
      "Alcohol use disorders (%)    102085\n",
      "dtype: int64\n"
     ]
    }
   ],
   "source": [
    "# Inspecting dataframe, datatypes, column and row counts and missing values\n",
    "data_inspection(mental_disorders)"
   ]
  },
  {
   "cell_type": "markdown",
   "id": "6d87a94a",
   "metadata": {},
   "source": [
    "This dataset contains a lot of missing data. This needs to be filtered out and checked if remaining data is still sufficient and if remaining countries correspond to the HDI dataset. Some of the datatypes need to be converted from object to float. Column names can be shortened for convenience. "
   ]
  },
  {
   "cell_type": "code",
   "execution_count": 18,
   "id": "65ee0059",
   "metadata": {},
   "outputs": [
    {
     "name": "stdout",
     "output_type": "stream",
     "text": [
      "Number of countries: 276\n",
      "Number of years: 259\n"
     ]
    }
   ],
   "source": [
    "# Checking number of countries\n",
    "countries = len(mental_disorders['Entity'].unique())\n",
    "print(f'Number of countries: {countries}')\n",
    "\n",
    "# Checking time span \n",
    "years = len(mental_disorders['Year'].unique())\n",
    "print(f'Number of years: {years}')"
   ]
  },
  {
   "cell_type": "markdown",
   "id": "1ac5563f",
   "metadata": {},
   "source": [
    "The dataset needs to be filtered to only contain data from the years 1990 to 2017. It currently contains years that go too far back (including prehistorical data)."
   ]
  },
  {
   "cell_type": "code",
   "execution_count": null,
   "id": "b51cc6a7",
   "metadata": {},
   "outputs": [],
   "source": [
    "# Inspecting data distribution "
   ]
  },
  {
   "cell_type": "code",
   "execution_count": null,
   "id": "79fb53c8",
   "metadata": {},
   "outputs": [],
   "source": []
  },
  {
   "cell_type": "code",
   "execution_count": 7,
   "id": "72de616b",
   "metadata": {},
   "outputs": [
    {
     "name": "stdout",
     "output_type": "stream",
     "text": [
      "        Entity Code  Year  Human Development Index\n",
      "0  Afghanistan  AFG  1990                    0.273\n",
      "1  Afghanistan  AFG  1991                    0.279\n",
      "2  Afghanistan  AFG  1992                    0.287\n",
      "3  Afghanistan  AFG  1993                    0.297\n",
      "4  Afghanistan  AFG  1994                    0.292 \n",
      "\n",
      "Dataset contains 5923 rows and 4 columns. \n",
      "\n",
      "Datatypes: \n",
      " Entity                      object\n",
      "Code                        object\n",
      "Year                         int64\n",
      "Human Development Index    float64\n",
      "dtype: object, \n",
      "\n",
      "Missing data per column: \n",
      "Entity                       0\n",
      "Code                       320\n",
      "Year                         0\n",
      "Human Development Index      0\n",
      "dtype: int64\n"
     ]
    }
   ],
   "source": [
    "data_inspection(hdi)"
   ]
  },
  {
   "cell_type": "markdown",
   "id": "a132b519",
   "metadata": {},
   "source": [
    "### Data cleaning"
   ]
  },
  {
   "cell_type": "markdown",
   "id": "d466fa06",
   "metadata": {},
   "source": []
  },
  {
   "cell_type": "markdown",
   "id": "eb6da7d7",
   "metadata": {},
   "source": [
    "### Data wrangling"
   ]
  },
  {
   "cell_type": "code",
   "execution_count": null,
   "id": "4a32dc2b",
   "metadata": {},
   "outputs": [],
   "source": []
  },
  {
   "cell_type": "markdown",
   "id": "c2ae067f",
   "metadata": {},
   "source": [
    "### Normalization"
   ]
  },
  {
   "cell_type": "markdown",
   "id": "cdbdc859",
   "metadata": {},
   "source": [
    "Both data sets are normalized"
   ]
  },
  {
   "cell_type": "markdown",
   "id": "83b1b6f9",
   "metadata": {},
   "source": [
    "### Statistical analysis"
   ]
  },
  {
   "cell_type": "code",
   "execution_count": null,
   "id": "b4e984d3",
   "metadata": {},
   "outputs": [],
   "source": []
  },
  {
   "cell_type": "markdown",
   "id": "3ac960ec",
   "metadata": {},
   "source": [
    "### Data visualisation"
   ]
  },
  {
   "cell_type": "code",
   "execution_count": null,
   "id": "827f8aa5",
   "metadata": {},
   "outputs": [],
   "source": []
  },
  {
   "cell_type": "code",
   "execution_count": null,
   "id": "9c875b2e",
   "metadata": {},
   "outputs": [],
   "source": []
  },
  {
   "cell_type": "markdown",
   "id": "584a0ced",
   "metadata": {},
   "source": [
    "#### References\n",
    "Barbalat, G., & Franck, N. (2020). Ecological study of the association between mental illness with human development, income inequalities and unemployment across OECD countries. BMJ open, 10(4), e035055.\n",
    "\n",
    "Max Roser (2014) - \"Human Development Index (HDI)\". Published online at OurWorldInData.org. Retrieved from: 'https://ourworldindata.org/human-development-index' [Online Resource]*"
   ]
  }
 ],
 "metadata": {
  "kernelspec": {
   "display_name": "Python 3.9.13 ('base')",
   "language": "python",
   "name": "python3"
  },
  "language_info": {
   "codemirror_mode": {
    "name": "ipython",
    "version": 3
   },
   "file_extension": ".py",
   "mimetype": "text/x-python",
   "name": "python",
   "nbconvert_exporter": "python",
   "pygments_lexer": "ipython3",
   "version": "3.9.13"
  },
  "vscode": {
   "interpreter": {
    "hash": "82e1191a982415106860af2917129e6bd54a91343b66cd2a5eb7a538f7ca20f9"
   }
  }
 },
 "nbformat": 4,
 "nbformat_minor": 5
}
