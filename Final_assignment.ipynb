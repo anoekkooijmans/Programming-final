{
 "cells": [
  {
   "cell_type": "markdown",
   "id": "7215bc28",
   "metadata": {},
   "source": [
    "# The relationship between the Human Development Index and the prevalance of mental health disorders"
   ]
  },
  {
   "cell_type": "markdown",
   "id": "68488a06",
   "metadata": {},
   "source": [
    "## Research question"
   ]
  },
  {
   "cell_type": "markdown",
   "id": "a91f5fe3",
   "metadata": {},
   "source": [
    "The aim of this analysis is to investigate the relationship between country-level socioeconomic status and the prevalence of mental health disorders. Studies have suggested that mental health is worse is relatively highly developed countries [(Barbalat & Franck, 2020)](https://bmjopen.bmj.com/content/bmjopen/10/4/e035055.full.pdf). A country's level of human development can be measured using the humand development index (HDI).\n",
    "\n",
    "The HDI is a metric designed to quantify a country's socieeconomic status by using key dimensions of human development. The index is calculated using four key metrics: (1) life expectancy at birth - to asses a long and healthy life, (2) expected years of schooling - to asses access to knowledge of the younger generation, (3) average years of schooling - to assess access to knowledge of the older generation and (4) gross national income (GNI) per capita - to asses the standard of living. Each of these metrics is normalized to an index value and aggregated into the HDI using the following formula [(2020 HDR Technical Notes)](https://hdr.undp.org/system/files/documents/technical-notes-calculating-human-development-indices.pdf):\n",
    "\n",
    "$HDI = (I_{Health} * I_{Education} * I_{Income})^\\frac{1}{3}$\n",
    "\n",
    "The HDI dataset contains HDI values from 1990 to 2021 The 'Global Trends in Mental Health Disorder' file contains the prevalence expressed in percentages for schizophrenia, bipolar disorder, eating disorders, anxiety disorders, drug use disorders, depression and alcohol use disorders from 1990 to 2017. "
   ]
  },
  {
   "cell_type": "markdown",
   "id": "407cf680",
   "metadata": {},
   "source": [
    "### Data sources"
   ]
  },
  {
   "cell_type": "markdown",
   "id": "ab8ce9ce",
   "metadata": {},
   "source": [
    "The [Human Development Index](https://ourworldindata.org/human-development-index) was retrieved from Our World in Data (Roser, 2014) and originally published by the United Nations Development Programme. \n",
    "\n",
    "The [Mental Health dataset](https://www.kaggle.com/datasets/thedevastator/uncover-global-trends-in-mental-health-disorder?resource=download) was retrieved from kaggle by the author Amit. \n",
    "\n"
   ]
  },
  {
   "cell_type": "markdown",
   "id": "cc574309",
   "metadata": {},
   "source": [
    "### Loading libraries"
   ]
  },
  {
   "cell_type": "code",
   "execution_count": null,
   "id": "7de4d654",
   "metadata": {},
   "outputs": [],
   "source": [
    "# Loading needed libraries\n",
    "import yaml\n",
    "import numpy as np\n",
    "import pandas as pd\n",
    "import seaborn as sns\n",
    "import geopandas as gpd\n",
    "import json\n",
    "import matplotlib.pyplot as mpl\n",
    "import pylab as plt\n",
    "\n",
    "from bokeh.io import output_file, show, output_notebook, export_png\n",
    "from bokeh.models import ColumnDataSource, GeoJSONDataSource, LinearColorMapper, ColorBar, Label\n",
    "from bokeh.plotting import figure\n",
    "from bokeh.palettes import brewer\n",
    "\n",
    "import panel as pn\n",
    "import panel.widgets as pnw\n",
    "import scipy\n",
    "import scipy.stats as stats\n",
    "\n",
    "from sklearn import linear_model"
   ]
  },
  {
   "cell_type": "markdown",
   "id": "6f76a62f",
   "metadata": {},
   "source": [
    "### Defining functions"
   ]
  },
  {
   "cell_type": "code",
   "execution_count": null,
   "id": "c1f67bcb",
   "metadata": {},
   "outputs": [],
   "source": [
    "# Getting data location from configuration file\n",
    "def get_config():\n",
    "    with open(\"config.yaml\", 'r') as stream:\n",
    "        config = yaml.safe_load(stream)\n",
    "    return config\n",
    "    \n",
    "def data_inspection(df):\n",
    "    \n",
    "    # Displaying number of columns and rows, datatypes, missing values\n",
    "    print(f'Dataset contains {df.shape[0]} rows and {df.shape[1]} columns. \\n')\n",
    "    print(f'Datatypes: \\n{df.dtypes} \\n')\n",
    "    print(f'Missing data per column: \\n{df.isnull().sum()}')\n",
    "\n",
    "    # Displaying number of countries and years included\n",
    "    print(f'\\nNumber of countries included: {len(df.Entity.unique())}')\n",
    "    print(f'Number of years included: {len(df.Year.unique())}')\n",
    "    \n",
    "    # Displaying timespan of included years=\n",
    "    print(f'Timespan: {df.Year.min()}-{df.Year.max()}')\n",
    "   \n",
    "\n",
    "def reformat_mh():\n",
    "    # Drop index columns\n",
    "    df = mental_disorders.drop('index', axis='columns')\n",
    "\n",
    "    # Rename columns\n",
    "    df = df.rename(columns = {'Schizophrenia (%)':'Schizophrenia',\n",
    "    'Bipolar disorder (%)':'BPD', \n",
    "    'Eating disorders (%)':'ED',\n",
    "    'Anxiety disorders (%)':'Anxiety',\n",
    "    'Drug use disorders (%)':'Drugs',\n",
    "    'Depression (%)':'Depression',\n",
    "    'Alcohol use disorders (%)':'Alcohol'\n",
    "    })\n",
    "\n",
    "    # Drop missing values\n",
    "    df = df.dropna()\n",
    "\n",
    "    # Changing datatypes\n",
    "    df['Year'] = df['Year'].astype(int)\n",
    "    df['Schizophrenia'] = df['Schizophrenia'].astype(float)\n",
    "    df['BPD'] = df['BPD'].astype(float)\n",
    "    df['ED'] = df['ED'].astype(float)\n",
    "    \n",
    "    return df\n",
    "\n",
    "def correct_countries(df, dict):\n",
    "    for x in dict.items():\n",
    "        df['Entity'] = df['Entity'].replace(x[0], x[1])\n",
    "\n",
    "    return df\n"
   ]
  },
  {
   "cell_type": "markdown",
   "id": "f97053c6",
   "metadata": {},
   "source": [
    "### Data loading"
   ]
  },
  {
   "cell_type": "code",
   "execution_count": null,
   "id": "00b5bc2d",
   "metadata": {},
   "outputs": [],
   "source": [
    "config = get_config()\n",
    "\n",
    "# Human development index data\n",
    "d1 = (config['dataset1'])\n",
    "hdi = pd.read_csv(d1)\n",
    "\n",
    "# Mental health disorder data\n",
    "d2 = (config['dataset2'])\n",
    "mental_disorders = pd.read_csv(d2)\n",
    "\n",
    "# Shapefile containing geographical country data needed for visualisation\n",
    "fp = (config['dataset3'])\n",
    "# Reading file using geopandas (only loading needed columns)\n",
    "map_df = gpd.read_file(fp)[['ADMIN', 'ADM0_A3', 'geometry']]"
   ]
  },
  {
   "cell_type": "markdown",
   "id": "3c845e0f",
   "metadata": {},
   "source": [
    "### Data inspection "
   ]
  },
  {
   "cell_type": "markdown",
   "id": "8454c4e0",
   "metadata": {},
   "source": [
    "#### Mental health disorders"
   ]
  },
  {
   "cell_type": "code",
   "execution_count": null,
   "id": "54b6efb1",
   "metadata": {},
   "outputs": [],
   "source": [
    "# Viewing dataset\n",
    "mental_disorders.head()"
   ]
  },
  {
   "cell_type": "code",
   "execution_count": null,
   "id": "48d230ce",
   "metadata": {},
   "outputs": [],
   "source": [
    "# Inspecting dataframe, datatypes, column and row counts and missing values\n",
    "data_inspection(mental_disorders)"
   ]
  },
  {
   "cell_type": "markdown",
   "id": "6d87a94a",
   "metadata": {},
   "source": [
    "Observations: \n",
    "\n",
    "1. There is a lot of missing data. This needs to be filtered out and checked if remaining data is still sufficient and if remaining countries correspond to the HDI dataset. \n",
    "\n",
    "2. Several of columns need to be converted to float. \n",
    "\n",
    "3. Column names can be shortened for convenience.\n",
    "\n",
    "4. The dataset includes an unexpectedly high number of years.This needs to be examined further"
   ]
  },
  {
   "cell_type": "code",
   "execution_count": null,
   "id": "65ee0059",
   "metadata": {},
   "outputs": [],
   "source": [
    "# Checking time span \n",
    "print(mental_disorders['Year'].unique())"
   ]
  },
  {
   "cell_type": "markdown",
   "id": "1ac5563f",
   "metadata": {},
   "source": [
    "It currently contains years that go too far back (including prehistorical data).This can also factor into the high number of missing data. The dataset needs to be filtered to only contain data from the years 1990 to 2017."
   ]
  },
  {
   "cell_type": "markdown",
   "id": "d921aee7",
   "metadata": {},
   "source": [
    "#### Human development index"
   ]
  },
  {
   "cell_type": "code",
   "execution_count": null,
   "id": "327e8b02",
   "metadata": {},
   "outputs": [],
   "source": [
    "# Viewing the dataframe\n",
    "hdi.head()"
   ]
  },
  {
   "cell_type": "code",
   "execution_count": null,
   "id": "72de616b",
   "metadata": {},
   "outputs": [],
   "source": [
    "# Data inspection\n",
    "data_inspection(hdi)"
   ]
  },
  {
   "cell_type": "markdown",
   "id": "ce9af23c",
   "metadata": {},
   "source": [
    "Observations: \n",
    "\n",
    "1. There is missing data in the 'Code' column. However, 'Entity' has no missing data. Since these column essentialy contain the same information, 'Entity' can be used to identity countries instead of the country code.\n",
    "\n",
    "2. Datatypes are correct.\n",
    "\n",
    "3. Contains less countries than the other dataset, but includes a longer timespan (from 1990 to 2021). This, however, will be filtered later on when merging the dataset to only include data up until 2017.\n"
   ]
  },
  {
   "cell_type": "markdown",
   "id": "a132b519",
   "metadata": {},
   "source": [
    "### Data cleaning"
   ]
  },
  {
   "cell_type": "code",
   "execution_count": null,
   "id": "57ffb85d",
   "metadata": {},
   "outputs": [],
   "source": [
    "# Removing ising data, renaming columns and converting datatypes\n",
    "mh_clean = reformat_mh()\n",
    "\n",
    "# Renaming country names to match other dataset\n",
    "dict1 = {'Czech Republic':'Czechia','Macedonia':'North Macedonia'}\n",
    "dict2 = {'Serbia':'Republic of Serbia',\n",
    "    'Democratic Republic of Congo':'Democratic Republic of the Congo',\n",
    "    'Bahamas':'The Bahamas',\n",
    "    'Tanzania':'United Republic of Tanzania',\n",
    "    'United States':'United States of America',  \n",
    "    'Timor':'East Timor',\n",
    "    \"Cote d'Ivoire\":'Ivory Coast',\n",
    "    'Congo':'Republic of the Congo'}\n",
    "mh_clean = correct_countries(mh_clean, dict1)\n",
    "mh_clean = correct_countries(mh_clean, dict2)"
   ]
  },
  {
   "cell_type": "code",
   "execution_count": null,
   "id": "be0146b5",
   "metadata": {},
   "outputs": [],
   "source": [
    "# Renaming country names to match other dataframes\n",
    "hdi_clean = correct_countries(hdi, dict2)\n",
    "\n",
    "# Renaming columns geographical data to match other datasets\n",
    "map_df.columns = ['Entity', 'Code', 'geometry']\n",
    "\n",
    "# Dropping information for antartica so it won't be displayed later\n",
    "map_df = map_df.drop(map_df.index[159])"
   ]
  },
  {
   "cell_type": "markdown",
   "id": "072f462e",
   "metadata": {},
   "source": [
    "### Data Exploration"
   ]
  },
  {
   "cell_type": "code",
   "execution_count": null,
   "id": "46ef1809",
   "metadata": {},
   "outputs": [],
   "source": [
    "import numpy as np\n",
    "from bokeh.plotting import figure, show\n",
    "pn.extension()\n",
    "\n",
    "def plot_histogram(Variable, year):\n",
    "    \n",
    "    p = figure(width=500, height=400, toolbar_location=None,\n",
    "           title=\"Distribution of the selected variable:\")\n",
    "    if Variable == \"Human Development Index\":\n",
    "        df = hdi_clean\n",
    "\n",
    "    else:\n",
    "        df = mh_clean\n",
    "        \n",
    "    # Plotting per year\n",
    "    df = df[df['Year'] == year]\n",
    "        \n",
    "    begin = min(df[Variable])\n",
    "    end = max(df[Variable])\n",
    "    bins = np.linspace(begin, end, 30)\n",
    "    hist, edges = np.histogram(df[Variable], density=True, bins=bins)\n",
    "    p.quad(top=hist, bottom=0, left=edges[:-1], right=edges[1:],\n",
    "             fill_color=\"darkslateblue\", fill_alpha = 0.7, line_color=\"white\")\n",
    "    p.xaxis.axis_label = \"Distribution\"\n",
    "    p.yaxis.axis_label = \"Count\"\n",
    "\n",
    "    return p\n",
    "\n",
    "years = list(range(min(mh_hdi.Year),max(mh_hdi.Year)+1))\n",
    "variables = [\"Schizophrenia\", \"BPD\", \"ED\", \"Anxiety\", \"Drugs\", \"Depression\", \"Alcohol\",\"Human Development Index\"]\n",
    "mh = pn.interact(plot_histogram, Variable = variables, year = years)\n",
    "pn.Row(mh)"
   ]
  },
  {
   "cell_type": "markdown",
   "id": "eb6da7d7",
   "metadata": {},
   "source": [
    "### Data wrangling"
   ]
  },
  {
   "cell_type": "code",
   "execution_count": null,
   "id": "f00ab37c",
   "metadata": {},
   "outputs": [],
   "source": [
    "# Merging HDI with mental disorders\n",
    "mh_hdi = pd.merge(mh_clean, hdi, on=['Entity', 'Year', 'Code'])\n",
    "\n",
    "# Merging geographical data\n",
    "mh_hdi_geo  = map_df.merge(mh_hdi, on=['Entity', 'Code'])"
   ]
  },
  {
   "cell_type": "markdown",
   "id": "cdbdc859",
   "metadata": {},
   "source": [
    "Both data sets are normalized"
   ]
  },
  {
   "cell_type": "markdown",
   "id": "83b1b6f9",
   "metadata": {},
   "source": [
    "### Statistical analysis"
   ]
  },
  {
   "cell_type": "markdown",
   "id": "8c1cea97",
   "metadata": {},
   "source": [
    "#### Simple linear regression"
   ]
  },
  {
   "cell_type": "markdown",
   "id": "da59073a",
   "metadata": {},
   "source": [
    "Checking for any linear relationship between the HDI and the prevalance of the mental health disorders"
   ]
  },
  {
   "cell_type": "code",
   "execution_count": null,
   "id": "46fbfb01",
   "metadata": {},
   "outputs": [],
   "source": [
    "def simple_linear_regression(year,variable):\n",
    "    \n",
    "    # Plotting per year\n",
    "    df = mh_hdi[mh_hdi['Year'] == year]\n",
    "    \n",
    "    # Setting plot parameters\n",
    "    p = figure(width=500, height=400)\n",
    "    x = df[\"Human Development Index\"]\n",
    "    y = df[variable]\n",
    "    \n",
    "    # Scatter plot\n",
    "    p.circle(x,y, size=7, color=\"darkslateblue\", alpha=0.6)\n",
    "    \n",
    "    # Initializing linear model\n",
    "    regression_model = linear_model.LinearRegression()\n",
    "\n",
    "    # Train the model using the data\n",
    "    regression_model.fit(X = pd.DataFrame(df[\"Human Development Index\"]), \n",
    "                     y = df[variable])\n",
    "    \n",
    "    # Trained model y-intercept\n",
    "    intercept = regression_model.intercept_\n",
    "\n",
    "    # Trained model coefficients\n",
    "    slope = regression_model.coef_[0]\n",
    "    \n",
    "    # Getting model score\n",
    "    score = regression_model.score(X = pd.DataFrame(df[\"Human Development Index\"]), \n",
    "                     y = df[variable])\n",
    "    \n",
    "    # Adding model score (R2) to plot\n",
    "    a = max(df[\"Human Development Index\"]) - 0.15\n",
    "    b = min(df[variable])\n",
    "    \n",
    "    mytext = Label(x=a, y=b, text = f'R\\N{SUPERSCRIPT TWO} = {round(score,3)}', \n",
    "                       text_color = \"darkred\", text_font_size = \"10pt\")\n",
    "    \n",
    "    # Getting linear prediction\n",
    "    y_predicted = [slope*i + intercept  for i in x]\n",
    "    p.line(x,y_predicted,color='crimson', alpha = 0.5, line_width = 2,\n",
    "            legend_label = 'y = '+str(round(slope,3))+'x + '+str(round(intercept,3)))\n",
    "    \n",
    "    p.add_layout(mytext)\n",
    "    p.xaxis.axis_label = \"Human Development Index (HDI)\"\n",
    "    p.yaxis.axis_label = \"Prevalance (%)\"\n",
    "    p.legend.background_fill_alpha = 0.6\n",
    "    \n",
    "    return p "
   ]
  },
  {
   "cell_type": "code",
   "execution_count": null,
   "id": "744e4373",
   "metadata": {
    "scrolled": true
   },
   "outputs": [],
   "source": [
    "years = list(range(min(mh_hdi.Year),max(mh_hdi.Year)+1))\n",
    "variables = [\"Schizophrenia\", \"BPD\", \"ED\", \"Anxiety\", \"Drugs\", \"Depression\", \"Alcohol\"]\n",
    "\n",
    "mh = pn.interact(simple_linear_regression, year=years, variable = variables)\n",
    "pn.Row(mh)"
   ]
  },
  {
   "cell_type": "markdown",
   "id": "442fa6e8",
   "metadata": {},
   "source": [
    "There appears to be a positive correlation between HDI and all the variables except depression and alcohol disorders."
   ]
  },
  {
   "cell_type": "markdown",
   "id": "41304189",
   "metadata": {},
   "source": [
    "#### Spearman's correlation test"
   ]
  },
  {
   "cell_type": "markdown",
   "id": "3c6cb0b2",
   "metadata": {},
   "source": [
    "# Only 2017 for now\n",
    "df_2017 = mh_hdi[mh_hdi['Year'] == 2017]\n",
    "df_2017 = df_2017[[\"Entity\", \"Code\",\"Year\", \"Anxiety\"]]\n",
    "\n",
    "#Merge dataframes gdf and df_2016.\n",
    "merged = map_df.merge(df_2017, on = ['Entity','Code'])\n",
    "#Read data to json.\n",
    "year_json = json.loads(merged.to_json())\n",
    "#Convert to String like object.\n",
    "json_data = json.dumps(year_json)\n",
    "merged"
   ]
  },
  {
   "cell_type": "code",
   "execution_count": null,
   "id": "f5db16f3",
   "metadata": {},
   "outputs": [],
   "source": [
    "from bokeh.io import output_notebook, show, output_file\n",
    "from bokeh.plotting import figure\n",
    "from bokeh.models import GeoJSONDataSource, LinearColorMapper, ColorBar\n",
    "from bokeh.palettes import brewer\n",
    "\n",
    "#Input GeoJSON source that contains features for plotting.\n",
    "geosource = GeoJSONDataSource(geojson = json_data)\n",
    "\n",
    "#Define a sequential multi-hue color palette.\n",
    "palette = brewer['YlGnBu'][8]\n",
    "\n",
    "#Reverse color order so that dark blue is highest obesity.\n",
    "palette = palette[::-1]\n",
    "\n",
    "#Instantiate LinearColorMapper that linearly maps numbers in a range, into a sequence of colors.\n",
    "color_mapper = LinearColorMapper(palette = palette, low = 0, high = 10)\n",
    "\n",
    "#Define custom tick labels for color bar.\n",
    "tick_labels = {'0': '0%', '1': '1%', '2':'2%', '3':'3%', '4':'4%', '5':'5%', '6':'6%','7':'7%', '8': '>8%'}\n",
    "\n",
    "#Create color bar. \n",
    "color_bar = ColorBar(color_mapper=color_mapper, label_standoff=8,width = 500, height = 20,\n",
    "border_line_color=None,location = (0,0), orientation = 'horizontal', major_label_overrides = tick_labels)\n",
    "\n",
    "#Create figure object.\n",
    "p = figure(title = 'Global Anxiety prevalence, 2017', plot_height = 600 , plot_width = 950, toolbar_location = None)\n",
    "p.xgrid.grid_line_color = None\n",
    "p.ygrid.grid_line_color = None\n",
    "\n",
    "#Add patch renderer to figure. \n",
    "p.patches('xs','ys', source = geosource,fill_color = {'field' :'Anxiety', 'transform' : color_mapper},\n",
    "          line_color = 'black', line_width = 0.25, fill_alpha = 1)\n",
    "\n",
    "#Specify figure layout.\n",
    "p.add_layout(color_bar, 'below')\n",
    "\n",
    "#Display figure online in Jupyter Notebook.\n",
    "output_notebook()\n",
    "#Display figure.\n",
    "show(p)"
   ]
  },
  {
   "cell_type": "code",
   "execution_count": null,
   "id": "71ed2f8a",
   "metadata": {},
   "outputs": [],
   "source": [
    "#### References\n",
    "Barbalat, G., & Franck, N. (2020). Ecological study of the association between mental illness with human development, income inequalities and unemployment across OECD countries. BMJ open, 10(4), e035055.\n",
    "\n",
    "Max Roser (2014) - \"Human Development Index (HDI)\". Published online at OurWorldInData.org. Retrieved from: 'https://ourworldindata.org/human-development-index' [Online Resource]*"
   ]
  },
  {
   "cell_type": "markdown",
   "id": "3ac960ec",
   "metadata": {},
   "source": [
    "### Data visualisation"
   ]
  },
  {
   "cell_type": "code",
   "execution_count": null,
   "id": "981bc693",
   "metadata": {},
   "outputs": [],
   "source": []
  },
  {
   "cell_type": "code",
   "execution_count": null,
   "id": "9c875b2e",
   "metadata": {},
   "outputs": [],
   "source": [
    "# Only 2017 for now\n",
    "df_2017 = mh_hdi[mh_hdi['Year'] == 2017]\n",
    "df_2017 = df_2017[[\"Entity\", \"Code\",\"Year\", \"Anxiety\"]]\n",
    "\n",
    "#Merge dataframes gdf and df_2016.\n",
    "merged = map_df.merge(df_2017, on = ['Entity','Code'])\n",
    "#Read data to json.\n",
    "year_json = json.loads(merged.to_json())\n",
    "#Convert to String like object.\n",
    "json_data = json.dumps(year_json)\n",
    "merged"
   ]
  },
  {
   "cell_type": "code",
   "execution_count": null,
   "id": "35984433",
   "metadata": {},
   "outputs": [],
   "source": [
    "from bokeh.io import output_notebook, show, output_file\n",
    "from bokeh.plotting import figure\n",
    "from bokeh.models import GeoJSONDataSource, LinearColorMapper, ColorBar\n",
    "from bokeh.palettes import brewer\n",
    "\n",
    "#Input GeoJSON source that contains features for plotting.\n",
    "geosource = GeoJSONDataSource(geojson = json_data)\n",
    "\n",
    "#Define a sequential multi-hue color palette.\n",
    "palette = brewer['YlGnBu'][8]\n",
    "\n",
    "#Reverse color order so that dark blue is highest obesity.\n",
    "palette = palette[::-1]\n",
    "\n",
    "#Instantiate LinearColorMapper that linearly maps numbers in a range, into a sequence of colors.\n",
    "color_mapper = LinearColorMapper(palette = palette, low = 0, high = 10)\n",
    "\n",
    "#Define custom tick labels for color bar.\n",
    "tick_labels = {'0': '0%', '1': '1%', '2':'2%', '3':'3%', '4':'4%', '5':'5%', '6':'6%','7':'7%', '8': '>8%'}\n",
    "\n",
    "#Create color bar. \n",
    "color_bar = ColorBar(color_mapper=color_mapper, label_standoff=8,width = 500, height = 20,\n",
    "border_line_color=None,location = (0,0), orientation = 'horizontal', major_label_overrides = tick_labels)\n",
    "\n",
    "#Create figure object.\n",
    "p = figure(title = 'Global Anxiety prevalence, 2017', plot_height = 600 , plot_width = 950, toolbar_location = None)\n",
    "p.xgrid.grid_line_color = None\n",
    "p.ygrid.grid_line_color = None\n",
    "\n",
    "#Add patch renderer to figure. \n",
    "p.patches('xs','ys', source = geosource,fill_color = {'field' :'Anxiety', 'transform' : color_mapper},\n",
    "          line_color = 'black', line_width = 0.25, fill_alpha = 1)\n",
    "\n",
    "#Specify figure layout.\n",
    "p.add_layout(color_bar, 'below')\n",
    "\n",
    "#Display figure online in Jupyter Notebook.\n",
    "output_notebook()\n",
    "#Display figure.\n",
    "show(p)"
   ]
  },
  {
   "cell_type": "markdown",
   "id": "584a0ced",
   "metadata": {},
   "source": [
    "#### References\n",
    "Barbalat, G., & Franck, N. (2020). Ecological study of the association between mental illness with human development, income inequalities and unemployment across OECD countries. BMJ open, 10(4), e035055.\n",
    "\n",
    "Max Roser (2014) - \"Human Development Index (HDI)\". Published online at OurWorldInData.org. Retrieved from: 'https://ourworldindata.org/human-development-index' [Online Resource]*"
   ]
  }
 ],
 "metadata": {
  "kernelspec": {
   "display_name": "Python 3 (ipykernel)",
   "language": "python",
   "name": "python3"
  },
  "language_info": {
   "codemirror_mode": {
    "name": "ipython",
    "version": 3
   },
   "file_extension": ".py",
   "mimetype": "text/x-python",
   "name": "python",
   "nbconvert_exporter": "python",
   "pygments_lexer": "ipython3",
   "version": "3.9.12"
  },
  "vscode": {
   "interpreter": {
    "hash": "fe6bee11b4f91f3a9aac0f640aa4de11c2082276a0d8552630445007d5c1011c"
   }
  }
 },
 "nbformat": 4,
 "nbformat_minor": 5
}
