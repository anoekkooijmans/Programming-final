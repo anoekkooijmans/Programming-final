{
 "cells": [
  {
   "attachments": {},
   "cell_type": "markdown",
   "id": "7215bc28",
   "metadata": {},
   "source": [
    "# The relationship between the Human Development Index and the prevalance of mental health disorders"
   ]
  },
  {
   "cell_type": "markdown",
   "id": "68488a06",
   "metadata": {},
   "source": [
    "## Research question"
   ]
  },
  {
   "cell_type": "markdown",
   "id": "a91f5fe3",
   "metadata": {},
   "source": [
    "The aim of this analysis is to investigate the relationship between country-level socioeconomic status and the prevalence of mental health disorders. Studies have suggested that mental health is worse is relatively highly developed countries [(Barbalat & Franck, 2020)](https://bmjopen.bmj.com/content/bmjopen/10/4/e035055.full.pdf). A country's level of human development can be measured using the humand development index (HDI).\n",
    "\n",
    "The HDI is a metric designed to quantify a country's socieeconomic status by using key dimensions of human development. The index is calculated using four key metrics: (1) life expectancy at birth - to asses a long and healthy life, (2) expected years of schooling - to asses access to knowledge of the younger generation, (3) average years of schooling - to assess access to knowledge of the older generation and (4) gross national income (GNI) per capita - to asses the standard of living. Each of these metrics is normalized to an index value and aggregated into the HDI using the following formula [(2020 HDR Technical Notes)](https://hdr.undp.org/system/files/documents/technical-notes-calculating-human-development-indices.pdf):\n",
    "\n",
    "$HDI = (I_{Health} * I_{Education} * I_{Income})^\\frac{1}{3}$\n",
    "\n",
    "The HDI dataset contains HDI values from 1990 to 2021 The 'Global Trends in Mental Health Disorder' file contains the prevalence expressed in percentages for schizophrenia, bipolar disorder, eating disorders, anxiety disorders, drug use disorders, depression and alcohol use disorders from 1990 to 2017. "
   ]
  },
  {
   "cell_type": "markdown",
   "id": "407cf680",
   "metadata": {},
   "source": [
    "### Data sources"
   ]
  },
  {
   "cell_type": "markdown",
   "id": "ab8ce9ce",
   "metadata": {},
   "source": [
    "The [Human Development Index](https://ourworldindata.org/human-development-index) was retrieved from Our World in Data (Roser, 2014) and originally published by the United Nations Development Programme. \n",
    "\n",
    "The [Mental Health dataset](https://www.kaggle.com/datasets/thedevastator/uncover-global-trends-in-mental-health-disorder?resource=download) was retrieved from kaggle by the author Amit. \n",
    "\n"
   ]
  },
  {
   "cell_type": "markdown",
   "id": "cc574309",
   "metadata": {},
   "source": [
    "### Loading libraries"
   ]
  },
  {
   "cell_type": "code",
   "execution_count": 26,
   "id": "7de4d654",
   "metadata": {},
   "outputs": [],
   "source": [
    "# Loading needed libraries\n",
    "import numpy as np\n",
    "import pandas as pd\n",
    "import yaml\n",
    "import matplotlib.pyplot as plt\n",
    "import seaborn as sns"
   ]
  },
  {
   "cell_type": "markdown",
   "id": "6f76a62f",
   "metadata": {},
   "source": [
    "### Defining functions"
   ]
  },
  {
   "cell_type": "code",
   "execution_count": 5,
   "id": "c1f67bcb",
   "metadata": {},
   "outputs": [],
   "source": [
    "def data_inspection(df):\n",
    "    \n",
    "    print(df.head(), '\\n')\n",
    "    print(f'Dataset contains {df.shape[0]} rows and {df.shape[1]} columns. \\n')\n",
    "    print(f'Datatypes: \\n {df.dtypes}, \\n')\n",
    "    print(f'Missing data per column: \\n{df.isnull().sum()}')"
   ]
  },
  {
   "cell_type": "markdown",
   "id": "f97053c6",
   "metadata": {},
   "source": [
    "### Data loading"
   ]
  },
  {
   "cell_type": "code",
   "execution_count": 2,
   "id": "00b5bc2d",
   "metadata": {},
   "outputs": [
    {
     "name": "stderr",
     "output_type": "stream",
     "text": [
      "/tmp/ipykernel_5355/2108782651.py:15: DtypeWarning: Columns (5,6) have mixed types. Specify dtype option on import or set low_memory=False.\n",
      "  mental_disorders = pd.read_csv(d2)\n"
     ]
    }
   ],
   "source": [
    "# Getting data location from configuration file\n",
    "def get_config():\n",
    "    with open(\"config.yaml\", 'r') as stream:\n",
    "        config = yaml.safe_load(stream)\n",
    "    return config\n",
    "\n",
    "config = get_config()\n",
    "\n",
    "# Loading datasets as pd dataframes\n",
    "# Human development index data\n",
    "d1 = (config['dataset1'])\n",
    "hdi = pd.read_csv(d1)\n",
    "# mental health disorder data\n",
    "d2 = (config['dataset2'])\n",
    "mental_disorders = pd.read_csv(d2)"
   ]
  },
  {
   "cell_type": "markdown",
   "id": "3c845e0f",
   "metadata": {},
   "source": [
    "### Data inspection "
   ]
  },
  {
   "cell_type": "markdown",
   "id": "8454c4e0",
   "metadata": {},
   "source": [
    "##### Mental health dataset"
   ]
  },
  {
   "cell_type": "code",
   "execution_count": 8,
   "id": "48d230ce",
   "metadata": {},
   "outputs": [
    {
     "name": "stdout",
     "output_type": "stream",
     "text": [
      "   index       Entity Code  Year Schizophrenia (%) Bipolar disorder (%)  \\\n",
      "0      0  Afghanistan  AFG  1990           0.16056             0.697779   \n",
      "1      1  Afghanistan  AFG  1991          0.160312             0.697961   \n",
      "2      2  Afghanistan  AFG  1992          0.160135             0.698107   \n",
      "3      3  Afghanistan  AFG  1993          0.160037             0.698257   \n",
      "4      4  Afghanistan  AFG  1994          0.160022             0.698469   \n",
      "\n",
      "  Eating disorders (%)  Anxiety disorders (%)  Drug use disorders (%)  \\\n",
      "0             0.101855               4.828830                1.677082   \n",
      "1             0.099313               4.829740                1.684746   \n",
      "2             0.096692               4.831108                1.694334   \n",
      "3             0.094336               4.830864                1.705320   \n",
      "4             0.092439               4.829423                1.716069   \n",
      "\n",
      "   Depression (%)  Alcohol use disorders (%)  \n",
      "0        4.071831                   0.672404  \n",
      "1        4.079531                   0.671768  \n",
      "2        4.088358                   0.670644  \n",
      "3        4.096190                   0.669738  \n",
      "4        4.099582                   0.669260   \n",
      "\n",
      "Dataset contains 108553 rows and 11 columns. \n",
      "\n",
      "Datatypes: \n",
      " index                          int64\n",
      "Entity                        object\n",
      "Code                          object\n",
      "Year                          object\n",
      "Schizophrenia (%)             object\n",
      "Bipolar disorder (%)          object\n",
      "Eating disorders (%)          object\n",
      "Anxiety disorders (%)        float64\n",
      "Drug use disorders (%)       float64\n",
      "Depression (%)               float64\n",
      "Alcohol use disorders (%)    float64\n",
      "dtype: object, \n",
      "\n",
      "Missing data per column: \n",
      "index                             0\n",
      "Entity                            0\n",
      "Code                           5412\n",
      "Year                              0\n",
      "Schizophrenia (%)             82678\n",
      "Bipolar disorder (%)          89147\n",
      "Eating disorders (%)           8317\n",
      "Anxiety disorders (%)        102085\n",
      "Drug use disorders (%)       102085\n",
      "Depression (%)               102085\n",
      "Alcohol use disorders (%)    102085\n",
      "dtype: int64\n"
     ]
    }
   ],
   "source": [
    "# Inspecting dataframe, datatypes, column and row counts and missing values\n",
    "data_inspection(mental_disorders)"
   ]
  },
  {
   "cell_type": "markdown",
   "id": "6d87a94a",
   "metadata": {},
   "source": [
    "This dataset contains a lot of missing data. This needs to be filtered out and checked if remaining data is still sufficient and if remaining countries correspond to the HDI dataset. Some of the datatypes need to be converted from object to float. Column names can be shortened for convenience. "
   ]
  },
  {
   "cell_type": "code",
   "execution_count": 21,
   "id": "65ee0059",
   "metadata": {},
   "outputs": [
    {
     "name": "stdout",
     "output_type": "stream",
     "text": [
      "Number of countries: 276\n",
      "Number of years: 259 \n",
      "\n",
      "['1990' '1991' '1992' '1993' '1994' '1995' '1996' '1997' '1998' '1999'\n",
      " '2000' '2001' '2002' '2003' '2004' '2005' '2006' '2007' '2008' '2009'\n",
      " '2010' '2011' '2012' '2013' '2014' '2015' '2016' '2017' 'Year' '1800'\n",
      " '1801' '1802' '1803' '1804' '1805' '1806' '1807' '1808' '1809' '1810'\n",
      " '1811' '1812' '1813' '1814' '1815' '1816' '1817' '1818' '1819' '1820'\n",
      " '1821' '1822' '1823' '1824' '1825' '1826' '1827' '1828' '1829' '1830'\n",
      " '1831' '1832' '1833' '1834' '1835' '1836' '1837' '1838' '1839' '1840'\n",
      " '1841' '1842' '1843' '1844' '1845' '1846' '1847' '1848' '1849' '1850'\n",
      " '1851' '1852' '1853' '1854' '1855' '1856' '1857' '1858' '1859' '1860'\n",
      " '1861' '1862' '1863' '1864' '1865' '1866' '1867' '1868' '1869' '1870'\n",
      " '1871' '1872' '1873' '1874' '1875' '1876' '1877' '1878' '1879' '1880'\n",
      " '1881' '1882' '1883' '1884' '1885' '1886' '1887' '1888' '1889' '1890'\n",
      " '1891' '1892' '1893' '1894' '1895' '1896' '1897' '1898' '1899' '1900'\n",
      " '1901' '1902' '1903' '1904' '1905' '1906' '1907' '1908' '1909' '1910'\n",
      " '1911' '1912' '1913' '1914' '1915' '1916' '1917' '1918' '1919' '1920'\n",
      " '1921' '1922' '1923' '1924' '1925' '1926' '1927' '1928' '1929' '1930'\n",
      " '1931' '1932' '1933' '1934' '1935' '1936' '1937' '1938' '1939' '1940'\n",
      " '1941' '1942' '1943' '1944' '1945' '1946' '1947' '1948' '1949' '1950'\n",
      " '1951' '1952' '1953' '1954' '1955' '1956' '1957' '1958' '1959' '1960'\n",
      " '1961' '1962' '1963' '1964' '1965' '1966' '1967' '1968' '1969' '1970'\n",
      " '1971' '1972' '1973' '1974' '1975' '1976' '1977' '1978' '1979' '1980'\n",
      " '1981' '1982' '1983' '1984' '1985' '1986' '1987' '1988' '1989' '2018'\n",
      " '2019' '10000 BCE' '9000 BCE' '8000 BCE' '7000 BCE' '6000 BCE' '5000 BCE'\n",
      " '4000 BCE' '3000 BCE' '2000 BCE' '1000 BCE' '0' '100' '200' '300' '400'\n",
      " '500' '600' '700' '800' '900' '1000' '1100' '1200' '1300' '1400' '1500'\n",
      " '1600' '1700' '1710' '1720' '1730' '1740' '1750' '1760' '1770' '1780'\n",
      " '1790' '1']\n"
     ]
    }
   ],
   "source": [
    "# Checking number of countries\n",
    "countries = len(mental_disorders['Entity'].unique())\n",
    "print(f'Number of countries: {countries}')\n",
    "\n",
    "# Checking time span \n",
    "years = len(mental_disorders['Year'].unique())\n",
    "print(f'Number of years: {years} \\n')\n",
    "print(mental_disorders['Year'].unique())"
   ]
  },
  {
   "cell_type": "markdown",
   "id": "1ac5563f",
   "metadata": {},
   "source": [
    "The dataset needs to be filtered to only contain data from the years 1990 to 2017. It currently contains years that go too far back (including prehistorical data)."
   ]
  },
  {
   "cell_type": "code",
   "execution_count": 7,
   "id": "72de616b",
   "metadata": {},
   "outputs": [
    {
     "name": "stdout",
     "output_type": "stream",
     "text": [
      "        Entity Code  Year  Human Development Index\n",
      "0  Afghanistan  AFG  1990                    0.273\n",
      "1  Afghanistan  AFG  1991                    0.279\n",
      "2  Afghanistan  AFG  1992                    0.287\n",
      "3  Afghanistan  AFG  1993                    0.297\n",
      "4  Afghanistan  AFG  1994                    0.292 \n",
      "\n",
      "Dataset contains 5923 rows and 4 columns. \n",
      "\n",
      "Datatypes: \n",
      " Entity                      object\n",
      "Code                        object\n",
      "Year                         int64\n",
      "Human Development Index    float64\n",
      "dtype: object, \n",
      "\n",
      "Missing data per column: \n",
      "Entity                       0\n",
      "Code                       320\n",
      "Year                         0\n",
      "Human Development Index      0\n",
      "dtype: int64\n"
     ]
    }
   ],
   "source": [
    "data_inspection(hdi)"
   ]
  },
  {
   "cell_type": "markdown",
   "id": "e02fe1e9",
   "metadata": {},
   "source": [
    "### Data exploration"
   ]
  },
  {
   "cell_type": "code",
   "execution_count": 71,
   "id": "4bfe319e",
   "metadata": {},
   "outputs": [],
   "source": [
    "# Data distribution"
   ]
  },
  {
   "cell_type": "markdown",
   "id": "a132b519",
   "metadata": {},
   "source": [
    "### Data cleaning"
   ]
  },
  {
   "cell_type": "code",
   "execution_count": 63,
   "id": "de62c454",
   "metadata": {},
   "outputs": [],
   "source": [
    "def reformat_mh():\n",
    "    # Drop index columns\n",
    "    df = mental_disorders.drop('index', axis='columns')\n",
    "    # Rename columns\n",
    "    df = df.rename(columns = {'Schizophrenia (%)':'Schizophrenia',\n",
    "    'Bipolar disorder (%)':'BPD', \n",
    "    'Eating disorders (%)':'ED',\n",
    "    'Anxiety disorders (%)':'Anxiety',\n",
    "    'Drug use disorders (%)':'Drugs',\n",
    "    'Depression (%)':'Depression',\n",
    "    'Alcohol use disorders (%)':'Alcohol'\n",
    "    })\n",
    "    # Drop missing values\n",
    "    df = df.dropna()\n",
    "    # Changing datatypes\n",
    "    df['Year'] = df['Year'].astype(int)\n",
    "    df['Schizophrenia'] = df['Schizophrenia'].astype(float)\n",
    "    df['BPD'] = df['BPD'].astype(float)\n",
    "    df['ED'] = df['ED'].astype(float)\n",
    "    \n",
    "    return df\n",
    "    \n",
    "    "
   ]
  },
  {
   "cell_type": "code",
   "execution_count": 67,
   "id": "addbfa05",
   "metadata": {},
   "outputs": [
    {
     "data": {
      "text/html": [
       "<div>\n",
       "<style scoped>\n",
       "    .dataframe tbody tr th:only-of-type {\n",
       "        vertical-align: middle;\n",
       "    }\n",
       "\n",
       "    .dataframe tbody tr th {\n",
       "        vertical-align: top;\n",
       "    }\n",
       "\n",
       "    .dataframe thead th {\n",
       "        text-align: right;\n",
       "    }\n",
       "</style>\n",
       "<table border=\"1\" class=\"dataframe\">\n",
       "  <thead>\n",
       "    <tr style=\"text-align: right;\">\n",
       "      <th></th>\n",
       "      <th>Entity</th>\n",
       "      <th>Code</th>\n",
       "      <th>Year</th>\n",
       "      <th>Schizophrenia</th>\n",
       "      <th>BPD</th>\n",
       "      <th>ED</th>\n",
       "      <th>Anxiety</th>\n",
       "      <th>Drugs</th>\n",
       "      <th>Depression</th>\n",
       "      <th>Alcohol</th>\n",
       "    </tr>\n",
       "  </thead>\n",
       "  <tbody>\n",
       "    <tr>\n",
       "      <th>0</th>\n",
       "      <td>Afghanistan</td>\n",
       "      <td>AFG</td>\n",
       "      <td>1990</td>\n",
       "      <td>0.160560</td>\n",
       "      <td>0.697779</td>\n",
       "      <td>0.101855</td>\n",
       "      <td>4.828830</td>\n",
       "      <td>1.677082</td>\n",
       "      <td>4.071831</td>\n",
       "      <td>0.672404</td>\n",
       "    </tr>\n",
       "    <tr>\n",
       "      <th>1</th>\n",
       "      <td>Afghanistan</td>\n",
       "      <td>AFG</td>\n",
       "      <td>1991</td>\n",
       "      <td>0.160312</td>\n",
       "      <td>0.697961</td>\n",
       "      <td>0.099313</td>\n",
       "      <td>4.829740</td>\n",
       "      <td>1.684746</td>\n",
       "      <td>4.079531</td>\n",
       "      <td>0.671768</td>\n",
       "    </tr>\n",
       "    <tr>\n",
       "      <th>2</th>\n",
       "      <td>Afghanistan</td>\n",
       "      <td>AFG</td>\n",
       "      <td>1992</td>\n",
       "      <td>0.160135</td>\n",
       "      <td>0.698107</td>\n",
       "      <td>0.096692</td>\n",
       "      <td>4.831108</td>\n",
       "      <td>1.694334</td>\n",
       "      <td>4.088358</td>\n",
       "      <td>0.670644</td>\n",
       "    </tr>\n",
       "    <tr>\n",
       "      <th>3</th>\n",
       "      <td>Afghanistan</td>\n",
       "      <td>AFG</td>\n",
       "      <td>1993</td>\n",
       "      <td>0.160037</td>\n",
       "      <td>0.698257</td>\n",
       "      <td>0.094336</td>\n",
       "      <td>4.830864</td>\n",
       "      <td>1.705320</td>\n",
       "      <td>4.096190</td>\n",
       "      <td>0.669738</td>\n",
       "    </tr>\n",
       "    <tr>\n",
       "      <th>4</th>\n",
       "      <td>Afghanistan</td>\n",
       "      <td>AFG</td>\n",
       "      <td>1994</td>\n",
       "      <td>0.160022</td>\n",
       "      <td>0.698469</td>\n",
       "      <td>0.092439</td>\n",
       "      <td>4.829423</td>\n",
       "      <td>1.716069</td>\n",
       "      <td>4.099582</td>\n",
       "      <td>0.669260</td>\n",
       "    </tr>\n",
       "    <tr>\n",
       "      <th>...</th>\n",
       "      <td>...</td>\n",
       "      <td>...</td>\n",
       "      <td>...</td>\n",
       "      <td>...</td>\n",
       "      <td>...</td>\n",
       "      <td>...</td>\n",
       "      <td>...</td>\n",
       "      <td>...</td>\n",
       "      <td>...</td>\n",
       "      <td>...</td>\n",
       "    </tr>\n",
       "    <tr>\n",
       "      <th>6463</th>\n",
       "      <td>Zimbabwe</td>\n",
       "      <td>ZWE</td>\n",
       "      <td>2013</td>\n",
       "      <td>0.155670</td>\n",
       "      <td>0.607993</td>\n",
       "      <td>0.117248</td>\n",
       "      <td>3.090168</td>\n",
       "      <td>0.766280</td>\n",
       "      <td>3.128192</td>\n",
       "      <td>1.515641</td>\n",
       "    </tr>\n",
       "    <tr>\n",
       "      <th>6464</th>\n",
       "      <td>Zimbabwe</td>\n",
       "      <td>ZWE</td>\n",
       "      <td>2014</td>\n",
       "      <td>0.155993</td>\n",
       "      <td>0.608610</td>\n",
       "      <td>0.118073</td>\n",
       "      <td>3.093964</td>\n",
       "      <td>0.768914</td>\n",
       "      <td>3.140290</td>\n",
       "      <td>1.515470</td>\n",
       "    </tr>\n",
       "    <tr>\n",
       "      <th>6465</th>\n",
       "      <td>Zimbabwe</td>\n",
       "      <td>ZWE</td>\n",
       "      <td>2015</td>\n",
       "      <td>0.156465</td>\n",
       "      <td>0.609363</td>\n",
       "      <td>0.119470</td>\n",
       "      <td>3.098687</td>\n",
       "      <td>0.771802</td>\n",
       "      <td>3.155710</td>\n",
       "      <td>1.514751</td>\n",
       "    </tr>\n",
       "    <tr>\n",
       "      <th>6466</th>\n",
       "      <td>Zimbabwe</td>\n",
       "      <td>ZWE</td>\n",
       "      <td>2016</td>\n",
       "      <td>0.157111</td>\n",
       "      <td>0.610234</td>\n",
       "      <td>0.121456</td>\n",
       "      <td>3.104294</td>\n",
       "      <td>0.772275</td>\n",
       "      <td>3.174134</td>\n",
       "      <td>1.513269</td>\n",
       "    </tr>\n",
       "    <tr>\n",
       "      <th>6467</th>\n",
       "      <td>Zimbabwe</td>\n",
       "      <td>ZWE</td>\n",
       "      <td>2017</td>\n",
       "      <td>0.157963</td>\n",
       "      <td>0.611242</td>\n",
       "      <td>0.124443</td>\n",
       "      <td>3.110926</td>\n",
       "      <td>0.772648</td>\n",
       "      <td>3.192789</td>\n",
       "      <td>1.510943</td>\n",
       "    </tr>\n",
       "  </tbody>\n",
       "</table>\n",
       "<p>5488 rows × 10 columns</p>\n",
       "</div>"
      ],
      "text/plain": [
       "           Entity Code  Year  Schizophrenia       BPD        ED   Anxiety  \\\n",
       "0     Afghanistan  AFG  1990       0.160560  0.697779  0.101855  4.828830   \n",
       "1     Afghanistan  AFG  1991       0.160312  0.697961  0.099313  4.829740   \n",
       "2     Afghanistan  AFG  1992       0.160135  0.698107  0.096692  4.831108   \n",
       "3     Afghanistan  AFG  1993       0.160037  0.698257  0.094336  4.830864   \n",
       "4     Afghanistan  AFG  1994       0.160022  0.698469  0.092439  4.829423   \n",
       "...           ...  ...   ...            ...       ...       ...       ...   \n",
       "6463     Zimbabwe  ZWE  2013       0.155670  0.607993  0.117248  3.090168   \n",
       "6464     Zimbabwe  ZWE  2014       0.155993  0.608610  0.118073  3.093964   \n",
       "6465     Zimbabwe  ZWE  2015       0.156465  0.609363  0.119470  3.098687   \n",
       "6466     Zimbabwe  ZWE  2016       0.157111  0.610234  0.121456  3.104294   \n",
       "6467     Zimbabwe  ZWE  2017       0.157963  0.611242  0.124443  3.110926   \n",
       "\n",
       "         Drugs  Depression   Alcohol  \n",
       "0     1.677082    4.071831  0.672404  \n",
       "1     1.684746    4.079531  0.671768  \n",
       "2     1.694334    4.088358  0.670644  \n",
       "3     1.705320    4.096190  0.669738  \n",
       "4     1.716069    4.099582  0.669260  \n",
       "...        ...         ...       ...  \n",
       "6463  0.766280    3.128192  1.515641  \n",
       "6464  0.768914    3.140290  1.515470  \n",
       "6465  0.771802    3.155710  1.514751  \n",
       "6466  0.772275    3.174134  1.513269  \n",
       "6467  0.772648    3.192789  1.510943  \n",
       "\n",
       "[5488 rows x 10 columns]"
      ]
     },
     "execution_count": 67,
     "metadata": {},
     "output_type": "execute_result"
    }
   ],
   "source": [
    "mh_clean = reformat_mh()\n",
    "mh_clean"
   ]
  },
  {
   "cell_type": "markdown",
   "id": "eb6da7d7",
   "metadata": {},
   "source": [
    "### Data wrangling"
   ]
  },
  {
   "cell_type": "code",
   "execution_count": null,
   "id": "4a32dc2b",
   "metadata": {},
   "outputs": [],
   "source": []
  },
  {
   "cell_type": "markdown",
   "id": "c2ae067f",
   "metadata": {},
   "source": [
    "### Normalization"
   ]
  },
  {
   "cell_type": "markdown",
   "id": "cdbdc859",
   "metadata": {},
   "source": [
    "Both data sets are normalized"
   ]
  },
  {
   "cell_type": "markdown",
   "id": "83b1b6f9",
   "metadata": {},
   "source": [
    "### Statistical analysis"
   ]
  },
  {
   "cell_type": "code",
   "execution_count": null,
   "id": "b4e984d3",
   "metadata": {},
   "outputs": [],
   "source": []
  },
  {
   "cell_type": "markdown",
   "id": "3ac960ec",
   "metadata": {},
   "source": [
    "### Data visualisation"
   ]
  },
  {
   "cell_type": "code",
   "execution_count": null,
   "id": "827f8aa5",
   "metadata": {},
   "outputs": [],
   "source": []
  },
  {
   "cell_type": "code",
   "execution_count": null,
   "id": "9c875b2e",
   "metadata": {},
   "outputs": [],
   "source": []
  },
  {
   "cell_type": "markdown",
   "id": "584a0ced",
   "metadata": {},
   "source": [
    "#### References\n",
    "Barbalat, G., & Franck, N. (2020). Ecological study of the association between mental illness with human development, income inequalities and unemployment across OECD countries. BMJ open, 10(4), e035055.\n",
    "\n",
    "Max Roser (2014) - \"Human Development Index (HDI)\". Published online at OurWorldInData.org. Retrieved from: 'https://ourworldindata.org/human-development-index' [Online Resource]*"
   ]
  }
 ],
 "metadata": {
  "kernelspec": {
   "display_name": "Python 3.9.13 ('base')",
   "language": "python",
   "name": "python3"
  },
  "language_info": {
   "codemirror_mode": {
    "name": "ipython",
    "version": 3
   },
   "file_extension": ".py",
   "mimetype": "text/x-python",
   "name": "python",
   "nbconvert_exporter": "python",
   "pygments_lexer": "ipython3",
   "version": "3.9.13"
  },
  "vscode": {
   "interpreter": {
    "hash": "82e1191a982415106860af2917129e6bd54a91343b66cd2a5eb7a538f7ca20f9"
   }
  }
 },
 "nbformat": 4,
 "nbformat_minor": 5
}
